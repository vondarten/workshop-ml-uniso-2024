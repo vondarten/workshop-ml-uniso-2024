{
  "cells": [
    {
      "cell_type": "markdown",
      "metadata": {
        "id": "tU7GTpV-AyGm"
      },
      "source": [
        "## Parte 1 - Regressão Linear do zero!"
      ]
    },
    {
      "cell_type": "code",
      "execution_count": null,
      "metadata": {
        "id": "iL-mqrZBAyGn"
      },
      "outputs": [],
      "source": [
        "import torch\n",
        "import torch.nn as nn\n",
        "import numpy as np\n",
        "import matplotlib.pyplot as plt\n",
        "from tqdm import tqdm"
      ]
    },
    {
      "cell_type": "code",
      "execution_count": null,
      "metadata": {
        "id": "sQqgNAzvAyGo"
      },
      "outputs": [],
      "source": [
        "# Seed -> randomização fixa\n",
        "torch.manual_seed(42)\n",
        "np.random.seed(42)"
      ]
    },
    {
      "cell_type": "code",
      "execution_count": null,
      "metadata": {
        "id": "Pjb9l2cjAyGp"
      },
      "outputs": [],
      "source": [
        "# Pontos do eixo x\n",
        "x = torch.arange(-5, 5, 0.1, dtype=torch.float32)\n",
        "x"
      ]
    },
    {
      "cell_type": "code",
      "execution_count": null,
      "metadata": {
        "id": "be-wkt7_AyGp"
      },
      "outputs": [],
      "source": [
        "# Definindo uma função linear y(x)\n",
        "y = 3*x + 5\n",
        "y"
      ]
    },
    {
      "cell_type": "code",
      "execution_count": null,
      "metadata": {
        "id": "i26wqU06AyGp"
      },
      "outputs": [],
      "source": [
        "plt.title('Equação y = 3x + 5')\n",
        "plt.scatter(x, y, c='g')\n",
        "\n",
        "plt.xlim([0, max(x)])\n",
        "plt.ylim([0, max(y)])\n",
        "\n",
        "plt.xlabel('x')\n",
        "plt.ylabel('y')\n",
        "\n",
        "plt.show()"
      ]
    },
    {
      "cell_type": "markdown",
      "metadata": {
        "id": "wbrfFFReAyGp"
      },
      "source": [
        "## Objetivo\n",
        "\n",
        "Automaticamente aproximar **y**\n",
        "\n",
        "y = 3x + 5\n",
        "\n",
        "y = wx + b\n",
        "\n",
        "```python\n",
        "w = 3.0\n",
        "b = 5.0\n",
        "```"
      ]
    },
    {
      "cell_type": "markdown",
      "metadata": {
        "id": "Daaqk7ARAyGp"
      },
      "source": [
        "### Modelo de Regressão Linear\n"
      ]
    },
    {
      "cell_type": "code",
      "execution_count": null,
      "metadata": {
        "id": "6IceObyDAyGq"
      },
      "outputs": [],
      "source": [
        "class LinearRegressionModel(nn.Module):\n",
        "    def __init__(self):\n",
        "        super().__init__()\n",
        "        self.w = torch.randn(1, requires_grad=True)\n",
        "        self.b = torch.randn(1, requires_grad=True)\n",
        "\n",
        "        print(f'w inicializado como: {self.w}')\n",
        "        print(f'b inicializado como: {self.b}')\n",
        "\n",
        "    def forward(self, x):\n",
        "        return self.w * x + self.b"
      ]
    },
    {
      "cell_type": "code",
      "execution_count": null,
      "metadata": {
        "id": "Xtd0q1YEAyGq"
      },
      "outputs": [],
      "source": [
        "model = LinearRegressionModel()"
      ]
    },
    {
      "cell_type": "markdown",
      "metadata": {
        "id": "7K5k6sGxAyGq"
      },
      "source": [
        "#### O que um modelo não treinado produz?"
      ]
    },
    {
      "cell_type": "code",
      "execution_count": null,
      "metadata": {
        "id": "fQv5gFCGAyGq"
      },
      "outputs": [],
      "source": [
        "preds = model(x)\n",
        "preds"
      ]
    },
    {
      "cell_type": "code",
      "execution_count": null,
      "metadata": {
        "id": "Tsssn3wVAyGq"
      },
      "outputs": [],
      "source": [
        "plt.title('Alvo: y = 3x + 5')\n",
        "plt.scatter(x, y, c='g', label='y=3x + 5 - real')\n",
        "plt.plot(x, preds.detach().numpy(), c='r', label=f'y = {model.w.item():.2f}x + {model.b.item():.2f} - modelo')\n",
        "plt.xlim([0, max(x)])\n",
        "plt.ylim([0, max(y)])\n",
        "plt.xlabel('x')\n",
        "plt.ylabel('y')\n",
        "\n",
        "plt.legend()\n",
        "\n",
        "plt.show()"
      ]
    },
    {
      "cell_type": "markdown",
      "metadata": {
        "id": "P2U2yVceAyGr"
      },
      "source": [
        "### Medindo o Loss\n",
        "\n",
        "Loss = MSE = Mean Squared Error\n",
        "\n",
        "$ \\text{MSE} = \\frac{1}{n} \\sum_{i=1}^{n} (y_i - \\hat{y}_i)^2 $"
      ]
    },
    {
      "cell_type": "code",
      "execution_count": null,
      "metadata": {
        "id": "mUXP7eTrAyGr"
      },
      "outputs": [],
      "source": [
        "def mse_loss(y_i, y_hat):\n",
        "    return ((y_i - y_hat) ** 2).mean()"
      ]
    },
    {
      "cell_type": "markdown",
      "metadata": {
        "id": "AOKKB4SbAyGr"
      },
      "source": [
        "### Minimizando o Loss\n",
        "\n",
        "### Obtendo o vetor gradiente contendo a influência de cada parâmetro no Loss:\n",
        "\n",
        "$ \\nabla J = \\begin{bmatrix} \\frac{\\partial J}{\\partial \\theta_1} \\\\ \\frac{\\partial J}{\\partial \\theta_2} \\\\ \\vdots \\\\ \\frac{\\partial J}{\\partial \\theta_n} \\end{bmatrix} $"
      ]
    },
    {
      "cell_type": "markdown",
      "metadata": {
        "id": "cOkMD3_TAyGr"
      },
      "source": [
        "##### Mágica do **PyTorch** = AutoGrad!\n",
        "`https://pytorch.org/tutorials/beginner/blitz/autograd_tutorial.html`"
      ]
    },
    {
      "cell_type": "code",
      "source": [
        "torch.cuda.is_available()"
      ],
      "metadata": {
        "id": "_8bzeuntwZkI"
      },
      "execution_count": null,
      "outputs": []
    },
    {
      "cell_type": "code",
      "execution_count": null,
      "metadata": {
        "id": "BY7qyxdDAyGr"
      },
      "outputs": [],
      "source": [
        "print(f\"Gradiente de w: {model.w.grad}, grad. de b: {model.b.grad}\")"
      ]
    },
    {
      "cell_type": "code",
      "execution_count": null,
      "metadata": {
        "id": "NYXTnu-WAyGr"
      },
      "outputs": [],
      "source": [
        "loss = mse_loss(preds, y)\n",
        "loss"
      ]
    },
    {
      "cell_type": "code",
      "execution_count": null,
      "metadata": {
        "id": "2FODUJLVAyGr"
      },
      "outputs": [],
      "source": [
        "### Definindo a taxa de aprendizado\n",
        "learning_rate = 0.1\n",
        "\n",
        "### Obtendo os gradientes ---> AutoGrad!\n",
        "loss.backward(retain_graph=True)\n",
        "\n",
        "w_grad = model.w.grad\n",
        "b_grad = model.b.grad\n",
        "\n",
        "print(f\"w: {model.w.item():.2f} - grad: {w_grad} \\nb: {model.b.item():.2f} - grad: {b_grad}\")"
      ]
    },
    {
      "cell_type": "markdown",
      "metadata": {
        "id": "HRPjuLADAyGs"
      },
      "source": [
        "$ {grad(w)} = \\frac{\\partial J}{\\partial w} = [-43.9102] $\n",
        "\n",
        "$ {grad(b)} = \\frac{\\partial J}{\\partial b} = [-9.4761] $"
      ]
    },
    {
      "cell_type": "markdown",
      "metadata": {
        "id": "iTWF88SsAyGs"
      },
      "source": [
        "### Atualizando os parâmetros\n",
        "\n",
        "$ \\theta_{i+1} = \\theta_i - \\alpha \\frac{\\partial J(\\theta_i)}{\\partial \\theta_i} $\n",
        "\n",
        "$ \\theta_{i+1} = \\theta_i - \\alpha \\nabla J(\\theta_i) $"
      ]
    },
    {
      "cell_type": "code",
      "execution_count": null,
      "metadata": {
        "id": "t5k_TK2LAyGs"
      },
      "outputs": [],
      "source": [
        "### Atualizando w e b conforme o gradiente e taxa de aprendizado\n",
        "new_w = model.w - learning_rate * model.w.grad\n",
        "new_b = model.b - learning_rate * model.b.grad\n",
        "\n",
        "print(f'[w] Antes: {model.w.item():.2f} - Depois: {new_w.item():.2f}')\n",
        "print(f'[b] Antes: {model.b.item():.2f} - Depois: {new_b.item():.2f}')"
      ]
    },
    {
      "cell_type": "code",
      "execution_count": null,
      "metadata": {
        "id": "2IbXaQmkAyGs"
      },
      "outputs": [],
      "source": [
        "### Atualizando os parâmetros\n",
        "model.w.data = new_w\n",
        "model.b.data = new_b\n",
        "\n",
        "### Limpando os gradientes para não se acumularem\n",
        "model.w.grad.zero_()\n",
        "model.b.grad.zero_()\n",
        "\n",
        "print(f'O Modelo y = w*x + b se tornou: y = {model.w.item():.2f} * x + {model.b.item():.2f}')"
      ]
    },
    {
      "cell_type": "code",
      "execution_count": null,
      "metadata": {
        "id": "evL6mO-aAyGs"
      },
      "outputs": [],
      "source": [
        "### Refazendo as previsões\n",
        "preds_new = model(x)\n",
        "preds_new"
      ]
    },
    {
      "cell_type": "code",
      "execution_count": null,
      "metadata": {
        "id": "UxwLBvQRAyGs"
      },
      "outputs": [],
      "source": [
        "plt.title('Alvo: y = 3x + 5')\n",
        "plt.scatter(x, y, c='g', label='y=3x + 5 - real')\n",
        "plt.plot(x, preds_new.detach().numpy(), c='r', label=f'y = {model.w.item():.2f}x + {model.b.item():.2f} - modelo')\n",
        "plt.xlabel('x')\n",
        "plt.ylabel('y')\n",
        "\n",
        "plt.legend()\n",
        "\n",
        "plt.show()"
      ]
    },
    {
      "cell_type": "code",
      "execution_count": null,
      "metadata": {
        "id": "IliZeM4RAyGt"
      },
      "outputs": [],
      "source": [
        "new_loss = mse_loss(preds_new, y)\n",
        "\n",
        "new_loss, new_loss / loss"
      ]
    },
    {
      "cell_type": "code",
      "execution_count": null,
      "metadata": {
        "id": "q3oKqVADAyGt"
      },
      "outputs": [],
      "source": [
        "### Como ficaram os gradientes?\n",
        "new_loss.backward(retain_graph=True)\n",
        "\n",
        "w_grad = model.w.grad\n",
        "b_grad = model.b.grad\n",
        "\n",
        "print(f\"Gradiente de w: {w_grad}, grad. de b: {b_grad}\")\n",
        "model.w.grad.zero_()\n",
        "model.b.grad.zero_()"
      ]
    },
    {
      "cell_type": "markdown",
      "metadata": {
        "id": "qBvk0ocjAyGt"
      },
      "source": [
        "### Automatizando o treinamento - Criando o Looping"
      ]
    },
    {
      "cell_type": "code",
      "execution_count": null,
      "metadata": {
        "id": "IHpZhU-8AyGt"
      },
      "outputs": [],
      "source": [
        "loss_hist = []\n",
        "w_grad_hist = []\n",
        "b_grad_hist = []\n",
        "w_hist = []\n",
        "b_hist = []"
      ]
    },
    {
      "cell_type": "code",
      "execution_count": null,
      "metadata": {
        "id": "snVt_FU6AyGt"
      },
      "outputs": [],
      "source": [
        "model = LinearRegressionModel()"
      ]
    },
    {
      "cell_type": "code",
      "execution_count": null,
      "metadata": {
        "id": "k6TrLOqxAyGt"
      },
      "outputs": [],
      "source": [
        "learning_rate = 0.1\n",
        "epochs = 50\n",
        "\n",
        "for i in tqdm(range(epochs)):\n",
        "\n",
        "    if i == 0:\n",
        "        print(f'[INFO] Epoch: {i} - w: {model.w.item():.4f} - b: {model.b.item():.4f}')\n",
        "\n",
        "    y_hat = model(x)\n",
        "\n",
        "    loss = mse_loss(y_hat, y)\n",
        "    loss_hist.append(loss.item())\n",
        "\n",
        "    ### AutoGrad ---> obtendo o gradiente\n",
        "    loss.backward()\n",
        "\n",
        "    w_grad = model.w.grad.data\n",
        "    b_grad = model.b.grad.data\n",
        "\n",
        "    w_grad_hist.append(w_grad.item())\n",
        "    b_grad_hist.append(b_grad.item())\n",
        "\n",
        "    ### Atualizando os parâmetros\n",
        "    model.w.data = model.w.data - learning_rate * w_grad\n",
        "    model.b.data = model.b.data - learning_rate * b_grad\n",
        "\n",
        "    w_hist.append(model.w.data.item())\n",
        "    b_hist.append(model.b.data.item())\n",
        "\n",
        "    ### Zerando para não acumular gradientes\n",
        "    model.w.grad.data.zero_()\n",
        "    model.b.grad.data.zero_()\n",
        "\n",
        "    if i % 10 == 0:\n",
        "        print(f'[INFO] Epoch: {i+1} - Loss: {loss.item()} - w: {model.w.item():.4f} - b: {model.b.item():.4f}')\n",
        "\n",
        "print(f'\\n[INFO] Parâmetros aprendidos: w = {model.w.item():.4f}, b = {model.b.item():.4f}')"
      ]
    },
    {
      "cell_type": "markdown",
      "metadata": {
        "id": "vdYNutQ_AyGt"
      },
      "source": [
        "### Como o Loss evoluiu?"
      ]
    },
    {
      "cell_type": "code",
      "execution_count": null,
      "metadata": {
        "id": "73VeQdEkAyGu"
      },
      "outputs": [],
      "source": [
        "plt.title(f'Loss vs epochs\\ny = {model.w.item():.4f} * x + {model.b.item():.4f}')\n",
        "plt.ylabel('Loss - MSE')\n",
        "plt.xlabel('Epochs')\n",
        "plt.plot(range(len(loss_hist)), loss_hist)"
      ]
    },
    {
      "cell_type": "markdown",
      "metadata": {
        "id": "aISiXC3iAyGu"
      },
      "source": [
        "### Como `w` variou?"
      ]
    },
    {
      "cell_type": "code",
      "execution_count": null,
      "metadata": {
        "id": "X612WS12AyGu"
      },
      "outputs": [],
      "source": [
        "plt.figure(figsize=(10, 5))\n",
        "\n",
        "plt.subplot(1, 2, 1)\n",
        "plt.title('W vs Epochs')\n",
        "plt.ylabel('W')\n",
        "plt.xlabel('Epochs')\n",
        "plt.axhline(y=3, color='r', linestyle='--')\n",
        "plt.plot(range(len(w_hist)), w_hist)\n",
        "\n",
        "plt.subplot(1, 2, 2)\n",
        "plt.title('∂J/∂w vs Epochs')\n",
        "plt.ylabel('∂J/∂w')\n",
        "plt.xlabel('Epochs')\n",
        "plt.axhline(y=0, color='r', linestyle='--')\n",
        "plt.plot(range(len(w_grad_hist)), w_grad_hist)\n",
        "\n",
        "plt.tight_layout()"
      ]
    },
    {
      "cell_type": "markdown",
      "metadata": {
        "id": "Ci60e4jXAyGu"
      },
      "source": [
        "### Como `b` variou?"
      ]
    },
    {
      "cell_type": "code",
      "execution_count": null,
      "metadata": {
        "id": "d7JSla5aAyGu"
      },
      "outputs": [],
      "source": [
        "plt.figure(figsize=(10, 5))\n",
        "\n",
        "plt.subplot(1, 2, 1)\n",
        "plt.title('b vs Epochs')\n",
        "plt.ylabel('b')\n",
        "plt.xlabel('Epochs')\n",
        "plt.axhline(y=5, color='r', linestyle='--')\n",
        "plt.plot(range(len(b_hist)), b_hist, color='purple')\n",
        "\n",
        "plt.subplot(1, 2, 2)\n",
        "plt.title('∂J/∂b vs Epochs')\n",
        "plt.ylabel('∂J/∂b')\n",
        "plt.xlabel('Epochs')\n",
        "plt.axhline(y=0, color='r', linestyle='--')\n",
        "plt.plot(range(len(b_grad_hist)), b_grad_hist, color='purple')\n",
        "\n",
        "plt.tight_layout()"
      ]
    },
    {
      "cell_type": "markdown",
      "metadata": {
        "id": "OtAcz0UGAyGv"
      },
      "source": [
        "## Parte 2 - Aplicando ML em dados reais"
      ]
    },
    {
      "cell_type": "code",
      "execution_count": null,
      "metadata": {
        "id": "CKmzhPSAAyGv"
      },
      "outputs": [],
      "source": [
        "import pandas as pd\n",
        "import matplotlib.pyplot as plt\n",
        "import numpy as np\n",
        "import seaborn as sns"
      ]
    },
    {
      "cell_type": "markdown",
      "metadata": {
        "id": "ZtOEkJ4kAyGv"
      },
      "source": [
        "### I. Prevendo o Índice de Liberdade Econômica de um país"
      ]
    },
    {
      "cell_type": "markdown",
      "metadata": {
        "id": "h92jbZ9zAyGv"
      },
      "source": [
        "**Sobre o problema**:\n",
        "\n",
        "O Índice de Liberdade Econômica é utilizado para o estudo de mais de duas décadas de avanço na liberdade econômica e prosperidade ao redor do mundo. O Índice abrange 12 liberdades - desde direitos de propriedade até liberdade financeira - medido em 186 países.\n",
        "\n",
        "Fonte:\n",
        "> https://www.kaggle.com/datasets/lewisduncan93/the-economic-freedom-index"
      ]
    },
    {
      "cell_type": "markdown",
      "metadata": {
        "id": "tBL3Jwp4AyGv"
      },
      "source": [
        "#### 1. Importando os dados"
      ]
    },
    {
      "cell_type": "code",
      "execution_count": null,
      "metadata": {
        "id": "RzoUAoe9AyGv"
      },
      "outputs": [],
      "source": [
        "df = pd.read_csv('./economic_freedom_index2019_data.csv', encoding='latin-1')"
      ]
    },
    {
      "cell_type": "markdown",
      "metadata": {
        "id": "AiVwcoTeAyGw"
      },
      "source": [
        "#### 2. EDA - Análise Exploratória de Dados"
      ]
    },
    {
      "cell_type": "code",
      "execution_count": null,
      "metadata": {
        "id": "SYLetS1VAyGw"
      },
      "outputs": [],
      "source": [
        "df.head()"
      ]
    },
    {
      "cell_type": "code",
      "execution_count": null,
      "metadata": {
        "id": "voZ5FtKCAyGw"
      },
      "outputs": [],
      "source": [
        "df.shape"
      ]
    },
    {
      "cell_type": "code",
      "execution_count": null,
      "metadata": {
        "id": "5s70OjrlAyGw"
      },
      "outputs": [],
      "source": [
        "### Removendo colunas redundantes\n",
        "df = df.drop('CountryID', axis=1)\n",
        "df = df.drop('WEBNAME', axis=1)\n",
        "df = df.drop('Country', axis=1)"
      ]
    },
    {
      "cell_type": "code",
      "execution_count": null,
      "metadata": {
        "id": "lT6FkRNnAyGw"
      },
      "outputs": [],
      "source": [
        "### Problema -> variável categórica está como string\n",
        "df['Region']"
      ]
    },
    {
      "cell_type": "code",
      "execution_count": null,
      "metadata": {
        "id": "JpvIUVLFAyGw"
      },
      "outputs": [],
      "source": [
        "df['Region'].value_counts()"
      ]
    },
    {
      "cell_type": "code",
      "execution_count": null,
      "metadata": {
        "id": "GGo0ZG6PAyGw"
      },
      "outputs": [],
      "source": [
        "### Convertendo variáveis categóricas em one-hot-encoding\n",
        "from sklearn.preprocessing import OneHotEncoder\n",
        "regions = df[['Region']]\n",
        "encoder = OneHotEncoder()\n",
        "\n",
        "feature_array = encoder.fit_transform(regions).toarray()\n",
        "feature_array"
      ]
    },
    {
      "cell_type": "code",
      "execution_count": null,
      "metadata": {
        "id": "W-wHEc6LAyGx"
      },
      "outputs": [],
      "source": [
        "# regions_names = encoder.get_feature_name_out(input_features=['Region'])\n",
        "regions_names = encoder.get_feature_names_out(input_features=['Region'])\n",
        "regions_names = [name.replace('Region_', '') for name in regions_names]\n",
        "regions_names\n"
      ]
    },
    {
      "cell_type": "code",
      "execution_count": null,
      "metadata": {
        "id": "uYoEHGbcAyGx"
      },
      "outputs": [],
      "source": [
        "regions_encoded = pd.DataFrame(feature_array, columns=regions_names)\n",
        "regions_encoded"
      ]
    },
    {
      "cell_type": "code",
      "execution_count": null,
      "metadata": {
        "id": "s1ZAxVYsAyGx"
      },
      "outputs": [],
      "source": [
        "df = pd.concat([df, regions_encoded], axis=1)\n",
        "df = df.drop(['Region'], axis=1)\n",
        "\n",
        "df.head()"
      ]
    },
    {
      "cell_type": "code",
      "execution_count": null,
      "metadata": {
        "id": "5_G78j4nAyGx"
      },
      "outputs": [],
      "source": [
        "def dollar_to_float(value):\n",
        "    value = str(value)\n",
        "    value = value.replace('$', '').replace(',', '')\n",
        "\n",
        "    return float(value.strip())"
      ]
    },
    {
      "cell_type": "code",
      "execution_count": null,
      "metadata": {
        "id": "1O2bYL5mAyGx"
      },
      "outputs": [],
      "source": [
        "### Corrigindo colunas problemáticas\n",
        "df['GDP (Billions, PPP)'] = df['GDP (Billions, PPP)'].apply(lambda x: dollar_to_float(x))\n",
        "df['GDP per Capita (PPP)'] = df['GDP per Capita (PPP)'].apply(lambda x: dollar_to_float(x))\n",
        "df['FDI Inflow (Millions)'] = df['FDI Inflow (Millions)'].apply(lambda x: dollar_to_float(x))"
      ]
    },
    {
      "cell_type": "code",
      "execution_count": null,
      "metadata": {
        "id": "HHxck0lOAyGx"
      },
      "outputs": [],
      "source": [
        "df.info()"
      ]
    },
    {
      "cell_type": "code",
      "execution_count": null,
      "metadata": {
        "id": "oG9cA9b1AyGy"
      },
      "outputs": [],
      "source": [
        "df.describe()"
      ]
    },
    {
      "cell_type": "code",
      "execution_count": null,
      "metadata": {
        "id": "kR4zZOJCAyGy"
      },
      "outputs": [],
      "source": [
        "df.columns"
      ]
    },
    {
      "cell_type": "code",
      "execution_count": null,
      "metadata": {
        "id": "YTk0PeQ3AyGy"
      },
      "outputs": [],
      "source": [
        "df"
      ]
    },
    {
      "cell_type": "code",
      "execution_count": null,
      "metadata": {
        "id": "grP1dnGCAyGy"
      },
      "outputs": [],
      "source": [
        "target_features = [\n",
        "                   '2019 Score', # <---- alvo!\n",
        "                   'Labor Freedom',\n",
        "                   'Monetary Freedom',\n",
        "                   'Trade Freedom',\n",
        "                   'Investment Freedom ',\n",
        "                   'Financial Freedom',\n",
        "                   'GDP (Billions, PPP)',\n",
        "                   'GDP per Capita (PPP)',\n",
        "                   'Unemployment (%)',\n",
        "                   'Inflation (%)',\n",
        "                   'FDI Inflow (Millions)',\n",
        "                   'Public Debt (% of GDP)',\n",
        "                   'Property Rights',\n",
        "                   'Tax Burden',\n",
        "                   'Fiscal Health',\n",
        "                   'Business Freedom'\n",
        "                ]"
      ]
    },
    {
      "cell_type": "code",
      "execution_count": null,
      "metadata": {
        "id": "BSBPSVmDAyGy"
      },
      "outputs": [],
      "source": [
        "### Visualizando os dados\n",
        "df[target_features].hist(bins=70, figsize=(12, 12))\n",
        "plt.show()"
      ]
    },
    {
      "cell_type": "code",
      "execution_count": null,
      "metadata": {
        "id": "WKaLMIkyAyGy"
      },
      "outputs": [],
      "source": [
        "target_features += ['Americas',\n",
        "                   'Asia-Pacific',\n",
        "                   'Europe',\n",
        "                   'Middle East and North Africa',\n",
        "                   'Sub-Saharan Africa']"
      ]
    },
    {
      "cell_type": "code",
      "execution_count": null,
      "metadata": {
        "id": "mMRPEHz5AyGz"
      },
      "outputs": [],
      "source": [
        "### Buscando correlações\n",
        "corr_matrix = df[target_features].corr()\n",
        "corr_matrix"
      ]
    },
    {
      "cell_type": "code",
      "execution_count": null,
      "metadata": {
        "id": "t3zCPZg7AyGz"
      },
      "outputs": [],
      "source": [
        "## Impacto de cada feature no Score de 2019\n",
        "corr_matrix['2019 Score'].sort_values()"
      ]
    },
    {
      "cell_type": "markdown",
      "metadata": {
        "id": "FUHfhnTjAyGz"
      },
      "source": [
        "> +1 = correlação positiva\n",
        "\n",
        "> -1 = correlação negativa\n",
        "\n",
        "> 0 = sem correlação"
      ]
    },
    {
      "cell_type": "code",
      "execution_count": null,
      "metadata": {
        "id": "Q8uKRb7QAyGz"
      },
      "outputs": [],
      "source": [
        "plt.figure(figsize=(12, 12))\n",
        "sns.heatmap(corr_matrix, annot=True, cmap='coolwarm', fmt=\".2f\")\n",
        "\n",
        "plt.xticks(ticks=range(len(target_features)), labels=target_features, rotation=90)\n",
        "plt.yticks(ticks=range(len(target_features)), labels=target_features, rotation=0)\n",
        "\n",
        "plt.title('Correlation Matrix')\n",
        "plt.show()"
      ]
    },
    {
      "cell_type": "code",
      "execution_count": null,
      "metadata": {
        "id": "n1TZim02AyGz"
      },
      "outputs": [],
      "source": [
        "df_features = df[target_features]"
      ]
    },
    {
      "cell_type": "code",
      "execution_count": null,
      "metadata": {
        "id": "89YvO9hUAyGz"
      },
      "outputs": [],
      "source": [
        "### Preenchendo valores NaN com a média da coluna\n",
        "for column in df_features.columns:\n",
        "    df_features[column] = df_features[column].fillna(df_features[column].mean())"
      ]
    },
    {
      "cell_type": "code",
      "execution_count": null,
      "metadata": {
        "id": "bMN3CzvsAyG0"
      },
      "outputs": [],
      "source": [
        "### Antes\n",
        "df.describe()"
      ]
    },
    {
      "cell_type": "code",
      "execution_count": null,
      "metadata": {
        "id": "sWoy10JsAyG3"
      },
      "outputs": [],
      "source": [
        "### Depois\n",
        "df_features.describe()"
      ]
    },
    {
      "cell_type": "code",
      "execution_count": null,
      "metadata": {
        "id": "tTL1Wx95AyG3"
      },
      "outputs": [],
      "source": [
        "df_features.head()"
      ]
    },
    {
      "cell_type": "code",
      "execution_count": null,
      "metadata": {
        "id": "8TcBM81ZAyG3"
      },
      "outputs": [],
      "source": [
        "### Plotando a correlação mais positiva\n",
        "plt.figure(figsize=(7, 7))\n",
        "plt.scatter(df_features['Property Rights'],\n",
        "            df_features['2019 Score'],\n",
        "            color='orange')\n",
        "\n",
        "plt.title('Direitos de propriedade privada x Liberdade Econômica')\n",
        "plt.xlabel('Direitos de propriedade privada')\n",
        "plt.ylabel('Score de 2019')"
      ]
    },
    {
      "cell_type": "code",
      "execution_count": null,
      "metadata": {
        "id": "OAuD4id_AyG3"
      },
      "outputs": [],
      "source": [
        "### Plotando uma correlação positiva fraca\n",
        "plt.figure(figsize=(7, 7))\n",
        "plt.scatter(df_features['GDP (Billions, PPP)'],\n",
        "            df_features['2019 Score'],\n",
        "            color='green')\n",
        "\n",
        "plt.title('PIB x Liberdade Econômica')\n",
        "plt.xlabel('PIB')\n",
        "plt.xlim(0, 2000)\n",
        "plt.ylabel('Score de 2019')"
      ]
    },
    {
      "cell_type": "code",
      "execution_count": null,
      "metadata": {
        "id": "bikJ3M4DAyG3"
      },
      "outputs": [],
      "source": [
        "### Plotando uma correlação negativa fraca\n",
        "plt.figure(figsize=(7, 7))\n",
        "plt.scatter(df_features['Inflation (%)'],\n",
        "            df_features['2019 Score'],\n",
        "            color='purple')\n",
        "\n",
        "plt.title('Inflação x Liberdade Econômica')\n",
        "plt.xlabel('Inflação')\n",
        "plt.xlim(0, 60)\n",
        "plt.ylabel('Score de 2019')"
      ]
    },
    {
      "cell_type": "code",
      "execution_count": null,
      "metadata": {
        "id": "wqm6A1LDAyG4"
      },
      "outputs": [],
      "source": [
        "df_features.columns"
      ]
    },
    {
      "cell_type": "code",
      "execution_count": null,
      "metadata": {
        "id": "Yeg0mKSVAyG4"
      },
      "outputs": [],
      "source": [
        "### Separando a variável-alvo (y)\n",
        "df_targets = df_features['2019 Score']\n",
        "df_targets"
      ]
    },
    {
      "cell_type": "code",
      "execution_count": null,
      "metadata": {
        "id": "4sO2_d0_AyG4"
      },
      "outputs": [],
      "source": [
        "### Removendo o score das features\n",
        "df_features = df_features.drop(['2019 Score'], axis=1)\n",
        "df_features"
      ]
    },
    {
      "cell_type": "code",
      "execution_count": null,
      "metadata": {
        "id": "NebeyxawAyG4"
      },
      "outputs": [],
      "source": [
        "### Padronização das features\n",
        "from sklearn.preprocessing import MinMaxScaler\n",
        "scaler = MinMaxScaler()\n",
        "\n",
        "df_features_scaled = scaler.fit_transform(df_features)\n",
        "df_features_scaled.shape"
      ]
    },
    {
      "cell_type": "code",
      "execution_count": null,
      "metadata": {
        "id": "DMaou8_lAyG4"
      },
      "outputs": [],
      "source": [
        "df_features_scaled"
      ]
    },
    {
      "cell_type": "code",
      "execution_count": null,
      "metadata": {
        "id": "PQNoy6X_AyG5"
      },
      "outputs": [],
      "source": [
        "df_targets"
      ]
    },
    {
      "cell_type": "code",
      "execution_count": null,
      "metadata": {
        "id": "usw3RsXOAyG5"
      },
      "outputs": [],
      "source": [
        "scaler.__dict__"
      ]
    },
    {
      "cell_type": "code",
      "execution_count": null,
      "metadata": {
        "id": "Bz9D4EZ0AyG5"
      },
      "outputs": [],
      "source": [
        "### O que o scaler armazenou?\n",
        "print(f'Amostras - {scaler.n_samples_seen_}\\n')\n",
        "print(f'Menor valor - {scaler.data_min_} - {scaler.data_min_.shape} features\\n')\n",
        "print(f'Maior valor - {scaler.data_max_} - {scaler.data_max_.shape} features')"
      ]
    },
    {
      "cell_type": "code",
      "execution_count": null,
      "metadata": {
        "id": "abtOBdAFAyG5"
      },
      "outputs": [],
      "source": [
        "### Visualizando os dados padronizados\n",
        "df_features_scaled_plot = pd.DataFrame(df_features_scaled, columns=df_features.columns)\n",
        "df_features_scaled_plot.hist(bins=70, figsize=(12, 12))\n",
        "plt.show()"
      ]
    },
    {
      "cell_type": "code",
      "execution_count": null,
      "metadata": {
        "id": "HqMgZr-eAyG5"
      },
      "outputs": [],
      "source": [
        "### Separando datasets\n",
        "from sklearn.model_selection import train_test_split\n",
        "\n",
        "X_train, X_test, y_train, y_test = train_test_split(df_features_scaled,\n",
        "                                                   df_targets,\n",
        "                                                   test_size=0.2,\n",
        "                                                   random_state=42)"
      ]
    },
    {
      "cell_type": "code",
      "execution_count": null,
      "metadata": {
        "id": "lvJBGUgCAyG5"
      },
      "outputs": [],
      "source": [
        "def plot_data_split(train_data = X_train,\n",
        "                     train_labels = y_train,\n",
        "                     test_data = X_test,\n",
        "                     test_labels = y_test\n",
        "                     ):\n",
        "\n",
        "    num_samples = min(len(test_data), len(train_data))\n",
        "\n",
        "    samples = range(num_samples)\n",
        "    plt.figure(figsize=(10,7))\n",
        "    plt.scatter(samples, train_labels[:num_samples] , c='b', label='Training data')\n",
        "    plt.scatter(samples, test_labels[:num_samples], c='g', label='Test data')\n",
        "\n",
        "    plt.legend()"
      ]
    },
    {
      "cell_type": "code",
      "execution_count": null,
      "metadata": {
        "id": "0aihT029AyG6"
      },
      "outputs": [],
      "source": [
        "assert len(X_train) + len(X_test) == len(df_features_scaled), \"A divisão não foi realizada corretamente!\""
      ]
    },
    {
      "cell_type": "code",
      "execution_count": null,
      "metadata": {
        "id": "3Jrr4jWsAyG6"
      },
      "outputs": [],
      "source": [
        "assert len(y_train) + len(y_test) == len(df_features_scaled), \"A divisão não foi realizada corretamente!\""
      ]
    },
    {
      "cell_type": "code",
      "execution_count": null,
      "metadata": {
        "id": "T9c9K0ZiAyG6"
      },
      "outputs": [],
      "source": [
        "X_train.shape, y_train.shape"
      ]
    },
    {
      "cell_type": "code",
      "execution_count": null,
      "metadata": {
        "id": "GF_u31yeAyG6"
      },
      "outputs": [],
      "source": [
        "X_test.shape, y_test.shape"
      ]
    },
    {
      "cell_type": "code",
      "execution_count": null,
      "metadata": {
        "id": "iKCvAAXUAyG6"
      },
      "outputs": [],
      "source": [
        "X_train"
      ]
    },
    {
      "cell_type": "code",
      "execution_count": null,
      "metadata": {
        "id": "cNZCoYVfAyG6"
      },
      "outputs": [],
      "source": [
        "plot_data_split()"
      ]
    },
    {
      "cell_type": "code",
      "execution_count": null,
      "metadata": {
        "id": "VYiUm_CrAyG6"
      },
      "outputs": [],
      "source": [
        "### Treinando modelos\n",
        "# Regressão Linear\n",
        "from sklearn.linear_model import LinearRegression\n",
        "\n",
        "lr = LinearRegression()\n",
        "lr.fit(X_train, y_train)"
      ]
    },
    {
      "cell_type": "code",
      "execution_count": null,
      "metadata": {
        "id": "y2JxWtHwAyG7"
      },
      "outputs": [],
      "source": [
        "### Coeficientes aprendidos (pesos)\n",
        "lr.coef_"
      ]
    },
    {
      "cell_type": "code",
      "execution_count": null,
      "metadata": {
        "id": "Mx05wrHqAyG7"
      },
      "outputs": [],
      "source": [
        "### b (viés)\n",
        "lr.intercept_"
      ]
    },
    {
      "cell_type": "code",
      "execution_count": null,
      "metadata": {
        "id": "MSpBlJhXAyG7"
      },
      "outputs": [],
      "source": [
        "### Obtendo o Loss de test\n",
        "from sklearn.metrics import mean_squared_error\n",
        "\n",
        "y_preds = lr.predict(X_test)\n",
        "mse_linear_regression = mean_squared_error(y_test, y_preds)\n",
        "mse_linear_regression"
      ]
    },
    {
      "cell_type": "code",
      "execution_count": null,
      "metadata": {
        "id": "NOyAB9oLAyG7"
      },
      "outputs": [],
      "source": [
        "### Visualizando\n",
        "def plot_predictions(test_labels = y_test,\n",
        "                     predictions = None,\n",
        "                     num_samples=38):\n",
        "\n",
        "    samples = range(num_samples)\n",
        "    plt.figure(figsize=(10,7))\n",
        "\n",
        "    plt.xlabel('Amostra aleatória')\n",
        "    plt.ylabel('Score em 2019')\n",
        "    plt.title('Comparando as previsões no conjunto de testes')\n",
        "    plt.scatter(samples, test_labels[:num_samples], c='g', label='Test data')\n",
        "    plt.scatter(samples, predictions[:num_samples], c='r', label='Predictions')\n",
        "\n",
        "    plt.legend()"
      ]
    },
    {
      "cell_type": "code",
      "execution_count": null,
      "metadata": {
        "id": "6_gUtXsiAyG7"
      },
      "outputs": [],
      "source": [
        "for i in range(10):\n",
        "    print(f'Predicted: {y_preds[i]} - Real: {y_test.iloc[i]}')"
      ]
    },
    {
      "cell_type": "code",
      "execution_count": null,
      "metadata": {
        "id": "iFJdIaV1AyG7"
      },
      "outputs": [],
      "source": [
        "plot_predictions(predictions=y_preds)"
      ]
    },
    {
      "cell_type": "markdown",
      "metadata": {
        "id": "HCcoccdhkKkG"
      },
      "source": [
        "### Testando outros modelos"
      ]
    },
    {
      "cell_type": "code",
      "execution_count": null,
      "metadata": {
        "id": "DjB4Jny_AyG8"
      },
      "outputs": [],
      "source": [
        "# Decision Tree\n",
        "from sklearn.tree import DecisionTreeRegressor\n",
        "\n",
        "tree_reg = DecisionTreeRegressor()\n",
        "tree_reg.fit(X_train, y_train)"
      ]
    },
    {
      "cell_type": "code",
      "execution_count": null,
      "metadata": {
        "id": "ThSBX7yQkKkG"
      },
      "outputs": [],
      "source": [
        "tree_preds = tree_reg.predict(X_test)\n",
        "mse_tree = mean_squared_error(y_test, tree_preds)\n",
        "mse_tree"
      ]
    },
    {
      "cell_type": "code",
      "execution_count": null,
      "metadata": {
        "id": "wKR2XF3NkKkH"
      },
      "outputs": [],
      "source": [
        "plot_predictions(predictions=tree_preds)"
      ]
    },
    {
      "cell_type": "code",
      "execution_count": null,
      "metadata": {
        "id": "hY4J04oVkKkH"
      },
      "outputs": [],
      "source": [
        "# Random forest\n",
        "from sklearn.ensemble import RandomForestRegressor\n",
        "forest_reg = RandomForestRegressor()\n",
        "forest_reg.fit(X_train, y_train)"
      ]
    },
    {
      "cell_type": "code",
      "execution_count": null,
      "metadata": {
        "id": "nIMEiWTkkKkH"
      },
      "outputs": [],
      "source": [
        "forest_preds = forest_reg.predict(X_test)\n",
        "mse_forest = mean_squared_error(y_test, forest_preds)\n",
        "mse_forest"
      ]
    },
    {
      "cell_type": "code",
      "execution_count": null,
      "metadata": {
        "id": "ib1JPJ8akKkI"
      },
      "outputs": [],
      "source": [
        "plot_predictions(predictions=forest_preds)"
      ]
    },
    {
      "cell_type": "code",
      "source": [
        "forest_preds"
      ],
      "metadata": {
        "id": "xyIEEpsO8SYS"
      },
      "execution_count": null,
      "outputs": []
    },
    {
      "cell_type": "markdown",
      "metadata": {
        "id": "RovVhEwgkKkI"
      },
      "source": [
        "##### Regressão Linear venceu!"
      ]
    },
    {
      "cell_type": "code",
      "execution_count": null,
      "metadata": {
        "id": "3HAqSuykkKkI"
      },
      "outputs": [],
      "source": [
        "mse_linear_regression, mse_tree, mse_forest"
      ]
    },
    {
      "cell_type": "markdown",
      "metadata": {
        "id": "ME9te6vekKkI"
      },
      "source": [
        "## Classificação - Regressão Logística"
      ]
    },
    {
      "cell_type": "code",
      "execution_count": null,
      "metadata": {
        "id": "8-WImvykkKkI"
      },
      "outputs": [],
      "source": [
        "from IPython.display import Image\n",
        "from sklearn.datasets import load_iris\n",
        "from sklearn.model_selection import train_test_split\n",
        "from sklearn.linear_model import LogisticRegression\n",
        "from sklearn.preprocessing import StandardScaler\n",
        "from sklearn.metrics import accuracy_score"
      ]
    },
    {
      "cell_type": "code",
      "execution_count": null,
      "metadata": {
        "id": "IhBbNHsAkKkI"
      },
      "outputs": [],
      "source": [
        "Image(url='https://s3.amazonaws.com/assets.datacamp.com/blog_assets/Machine+Learning+R/iris-machinelearning.png')"
      ]
    },
    {
      "cell_type": "code",
      "execution_count": null,
      "metadata": {
        "id": "DFN-a8QFkKkI"
      },
      "outputs": [],
      "source": [
        "scaler = StandardScaler()"
      ]
    },
    {
      "cell_type": "code",
      "execution_count": null,
      "metadata": {
        "id": "ATr6-hDUkKkJ"
      },
      "outputs": [],
      "source": [
        "df = load_iris(as_frame=True)"
      ]
    },
    {
      "cell_type": "code",
      "execution_count": null,
      "metadata": {
        "id": "AxASF3M4kKkJ"
      },
      "outputs": [],
      "source": [
        "df.data"
      ]
    },
    {
      "cell_type": "code",
      "execution_count": null,
      "metadata": {
        "id": "cMvOqoRbkKkJ"
      },
      "outputs": [],
      "source": [
        "df.target_names"
      ]
    },
    {
      "cell_type": "code",
      "execution_count": null,
      "metadata": {
        "id": "RUi6g9cjkKkJ"
      },
      "outputs": [],
      "source": [
        "df.target"
      ]
    },
    {
      "cell_type": "code",
      "execution_count": null,
      "metadata": {
        "id": "H_R7F8xNkKkJ"
      },
      "outputs": [],
      "source": [
        "iris = load_iris()\n",
        "X = iris.data\n",
        "y = iris.target"
      ]
    },
    {
      "cell_type": "code",
      "execution_count": null,
      "metadata": {
        "id": "gvbZH6uEkKkJ"
      },
      "outputs": [],
      "source": [
        "X.shape, X"
      ]
    },
    {
      "cell_type": "code",
      "execution_count": null,
      "metadata": {
        "id": "2C2nQuI9kKkJ"
      },
      "outputs": [],
      "source": [
        "y.shape, y"
      ]
    },
    {
      "cell_type": "code",
      "execution_count": null,
      "metadata": {
        "id": "Bmy7rj3CkKkJ"
      },
      "outputs": [],
      "source": [
        "X_train, X_test, y_train, y_test = train_test_split(X, y, test_size=0.2, random_state=42)\n",
        "X_train_scaled = scaler.fit_transform(X_train)\n",
        "X_test_scaled = scaler.transform(X_test)"
      ]
    },
    {
      "cell_type": "code",
      "execution_count": null,
      "metadata": {
        "id": "mGxRnM2HkKkK"
      },
      "outputs": [],
      "source": [
        "log_reg = LogisticRegression(random_state=42, max_iter=1000)\n",
        "log_reg.fit(X_train_scaled, y_train)"
      ]
    },
    {
      "cell_type": "code",
      "execution_count": null,
      "metadata": {
        "id": "9vdwcoZTkKkK"
      },
      "outputs": [],
      "source": [
        "log_reg.__dict__"
      ]
    },
    {
      "cell_type": "code",
      "execution_count": null,
      "metadata": {
        "id": "_zhgH4jDkKkK"
      },
      "outputs": [],
      "source": [
        "y_pred = log_reg.predict(X_test_scaled)\n",
        "\n",
        "accuracy = accuracy_score(y_test, y_pred)\n",
        "print(f\"Acc: {accuracy}\")"
      ]
    },
    {
      "cell_type": "code",
      "execution_count": null,
      "metadata": {
        "id": "BAStc7SbkKkK"
      },
      "outputs": [],
      "source": [
        "from sklearn.metrics import confusion_matrix, ConfusionMatrixDisplay\n",
        "cm = confusion_matrix(y_test, y_pred)\n",
        "\n",
        "disp = ConfusionMatrixDisplay(confusion_matrix=cm, display_labels=iris.target_names)\n",
        "disp.plot()\n",
        "plt.show()"
      ]
    },
    {
      "cell_type": "code",
      "execution_count": null,
      "metadata": {
        "id": "WgRAR4QkkKkK"
      },
      "outputs": [],
      "source": [
        "log_reg.coef_"
      ]
    },
    {
      "cell_type": "code",
      "execution_count": null,
      "metadata": {
        "id": "8cvY9MQykKkK"
      },
      "outputs": [],
      "source": [
        "log_reg.intercept_"
      ]
    },
    {
      "cell_type": "markdown",
      "metadata": {
        "id": "sGLTDtUVkKkL"
      },
      "source": [
        "#### 3x4 pesos e 3 vieses?"
      ]
    },
    {
      "cell_type": "markdown",
      "metadata": {
        "id": "KDXQU1kikKkL"
      },
      "source": [
        "### Recordando...\n",
        "\n",
        "Temos 3 classes: 'setosa', 'versicolor', 'virginica'\n",
        "\n",
        "E o modelo de regressão logística é apenas binário: y = sigmoid(w*x + b)\n",
        "\n",
        "Em cenários multiclasse, usa-se a estratégia OvA (one vs. all): Para cada classe, um modelo binário será treinado (dirá se pertence ou não a essa classe)\n",
        "\n",
        "3 classes = 3 modelos, cada um com 4 pesos e 1 viés."
      ]
    },
    {
      "cell_type": "code",
      "execution_count": null,
      "metadata": {
        "id": "NBchFBHCkKkL"
      },
      "outputs": [],
      "source": []
    }
  ],
  "metadata": {
    "colab": {
      "provenance": []
    },
    "kernelspec": {
      "display_name": "Python 3",
      "language": "python",
      "name": "python3"
    },
    "language_info": {
      "codemirror_mode": {
        "name": "ipython",
        "version": 3
      },
      "file_extension": ".py",
      "mimetype": "text/x-python",
      "name": "python",
      "nbconvert_exporter": "python",
      "pygments_lexer": "ipython3",
      "version": "3.7.4"
    }
  },
  "nbformat": 4,
  "nbformat_minor": 0
}